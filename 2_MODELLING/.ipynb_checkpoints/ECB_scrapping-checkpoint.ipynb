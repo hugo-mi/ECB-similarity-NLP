{
 "cells": [
  {
   "cell_type": "code",
   "execution_count": null,
   "metadata": {
    "colab": {
     "base_uri": "https://localhost:8080/"
    },
    "id": "6Ur6rkqx6KkW",
    "outputId": "823d9295-d7de-4c5f-e439-dcf34afddc6c"
   },
   "outputs": [],
   "source": []
  },
  {
   "cell_type": "code",
   "execution_count": 1,
   "metadata": {},
   "outputs": [
    {
     "name": "stdout",
     "output_type": "stream",
     "text": [
      "Defaulting to user installation because normal site-packages is not writeable\n",
      "Collecting selenium\n",
      "  Downloading selenium-4.15.2-py3-none-any.whl.metadata (6.9 kB)\n",
      "Requirement already satisfied: urllib3<3,>=1.26 in c:\\programdata\\anaconda3\\lib\\site-packages (from urllib3[socks]<3,>=1.26->selenium) (1.26.11)\n",
      "Collecting trio~=0.17 (from selenium)\n",
      "  Downloading trio-0.23.1-py3-none-any.whl.metadata (4.9 kB)\n",
      "Collecting trio-websocket~=0.9 (from selenium)\n",
      "  Downloading trio_websocket-0.11.1-py3-none-any.whl.metadata (4.7 kB)\n",
      "Requirement already satisfied: certifi>=2021.10.8 in c:\\programdata\\anaconda3\\lib\\site-packages (from selenium) (2022.9.14)\n",
      "Requirement already satisfied: attrs>=20.1.0 in c:\\programdata\\anaconda3\\lib\\site-packages (from trio~=0.17->selenium) (21.4.0)\n",
      "Requirement already satisfied: sortedcontainers in c:\\programdata\\anaconda3\\lib\\site-packages (from trio~=0.17->selenium) (2.4.0)\n",
      "Requirement already satisfied: idna in c:\\programdata\\anaconda3\\lib\\site-packages (from trio~=0.17->selenium) (3.3)\n",
      "Collecting outcome (from trio~=0.17->selenium)\n",
      "  Downloading outcome-1.3.0.post0-py2.py3-none-any.whl.metadata (2.6 kB)\n",
      "Collecting sniffio>=1.3.0 (from trio~=0.17->selenium)\n",
      "  Downloading sniffio-1.3.0-py3-none-any.whl (10 kB)\n",
      "Requirement already satisfied: cffi>=1.14 in c:\\programdata\\anaconda3\\lib\\site-packages (from trio~=0.17->selenium) (1.15.1)\n",
      "Collecting exceptiongroup>=1.0.0rc9 (from trio~=0.17->selenium)\n",
      "  Downloading exceptiongroup-1.1.3-py3-none-any.whl.metadata (6.1 kB)\n",
      "Collecting wsproto>=0.14 (from trio-websocket~=0.9->selenium)\n",
      "  Downloading wsproto-1.2.0-py3-none-any.whl (24 kB)\n",
      "Requirement already satisfied: PySocks!=1.5.7,<2.0,>=1.5.6 in c:\\programdata\\anaconda3\\lib\\site-packages (from urllib3[socks]<3,>=1.26->selenium) (1.7.1)\n",
      "Requirement already satisfied: pycparser in c:\\programdata\\anaconda3\\lib\\site-packages (from cffi>=1.14->trio~=0.17->selenium) (2.21)\n",
      "Collecting h11<1,>=0.9.0 (from wsproto>=0.14->trio-websocket~=0.9->selenium)\n",
      "  Downloading h11-0.14.0-py3-none-any.whl (58 kB)\n",
      "     ---------------------------------------- 58.3/58.3 kB 1.5 MB/s eta 0:00:00\n",
      "Downloading selenium-4.15.2-py3-none-any.whl (10.2 MB)\n",
      "   ---------------------------------------- 10.2/10.2 MB 1.8 MB/s eta 0:00:00\n",
      "Downloading trio-0.23.1-py3-none-any.whl (448 kB)\n",
      "   ---------------------------------------- 448.3/448.3 kB 1.0 MB/s eta 0:00:00\n",
      "Downloading trio_websocket-0.11.1-py3-none-any.whl (17 kB)\n",
      "Downloading exceptiongroup-1.1.3-py3-none-any.whl (14 kB)\n",
      "Downloading outcome-1.3.0.post0-py2.py3-none-any.whl (10 kB)\n",
      "Installing collected packages: sniffio, outcome, h11, exceptiongroup, wsproto, trio, trio-websocket, selenium\n",
      "Successfully installed exceptiongroup-1.1.3 h11-0.14.0 outcome-1.3.0.post0 selenium-4.15.2 sniffio-1.3.0 trio-0.23.1 trio-websocket-0.11.1 wsproto-1.2.0\n",
      "Note: you may need to restart the kernel to use updated packages.\n"
     ]
    },
    {
     "name": "stderr",
     "output_type": "stream",
     "text": [
      "WARNING: Ignoring invalid distribution -rotobuf (c:\\users\\zgcha\\appdata\\roaming\\python\\python39\\site-packages)\n",
      "WARNING: Ignoring invalid distribution -cipy (c:\\programdata\\anaconda3\\lib\\site-packages)\n",
      "WARNING: Ignoring invalid distribution -rotobuf (c:\\users\\zgcha\\appdata\\roaming\\python\\python39\\site-packages)\n",
      "WARNING: Ignoring invalid distribution -cipy (c:\\programdata\\anaconda3\\lib\\site-packages)\n"
     ]
    }
   ],
   "source": [
    "pip install selenium "
   ]
  },
  {
   "cell_type": "code",
   "execution_count": 30,
   "metadata": {},
   "outputs": [
    {
     "name": "stdout",
     "output_type": "stream",
     "text": [
      "                                                  link\n",
      "0    https://www.ecb.europa.eu/press/pressconf/2023...\n",
      "1    https://www.ecb.europa.eu/press/pressconf/2023...\n",
      "2    https://www.ecb.europa.eu/press/pressconf/2023...\n",
      "3    https://www.ecb.europa.eu/press/pressconf/2023...\n",
      "4    https://www.ecb.europa.eu/press/pressconf/2023...\n",
      "..                                                 ...\n",
      "270  https://www.ecb.europa.eu/press/pressconf/1998...\n",
      "271  https://www.ecb.europa.eu/press/pressconf/1998...\n",
      "272  https://www.ecb.europa.eu/press/pressconf/1998...\n",
      "273  https://www.ecb.europa.eu/press/pressconf/1998...\n",
      "274  https://www.ecb.europa.eu/press/pressconf/1998...\n",
      "\n",
      "[275 rows x 1 columns]\n"
     ]
    }
   ],
   "source": [
    "from selenium import webdriver\n",
    "from selenium.webdriver.chrome.options import Options\n",
    "from bs4 import BeautifulSoup\n",
    "import pandas as pd\n",
    "import time\n",
    "\n",
    "# Selenium WebDriver setup with headless mode\n",
    "options = Options()\n",
    "options.headless = True  # Enable headless mode\n",
    "options.add_argument(\"--disable-gpu\")\n",
    "options.add_argument(\"--no-sandbox\")\n",
    "options.add_argument(\"--disable-dev-shm-usage\")\n",
    "\n",
    "driver_path = 'C:\\Program Files\\Google\\Chrome\\Application\\Chrome.exe'  # Replace with the path to your WebDriver\n",
    "driver = webdriver.Chrome( options=options)\n",
    "\n",
    "# Target URL\n",
    "url = 'https://www.ecb.europa.eu/press/pressconf/html/index.en.html'\n",
    "\n",
    "try:\n",
    "    driver.get(url)\n",
    "    time.sleep(3)  # Wait for initial page content to load\n",
    "\n",
    "    last_height = driver.execute_script(\"return document.body.scrollHeight\")\n",
    "\n",
    "    while True:\n",
    "        # Scroll down a small distance\n",
    "        driver.execute_script(\"window.scrollBy(0, 4000);\")  # Scroll down by 300 pixels\n",
    "\n",
    "        # Wait for a short moment to mimic natural scrolling\n",
    "        time.sleep(1)\n",
    "\n",
    "        # Check if the bottom of the page has been reached\n",
    "        new_height = driver.execute_script(\"return document.body.scrollHeight\")\n",
    "        if new_height == last_height:\n",
    "            break\n",
    "        last_height = new_height\n",
    "\n",
    "    soup = BeautifulSoup(driver.page_source, 'html.parser')\n",
    "    statements = soup.find_all('dd')\n",
    "\n",
    "    links = []\n",
    "\n",
    "    for statement in statements:\n",
    "        link_tag = statement.find('a')\n",
    "        if link_tag and 'href' in link_tag.attrs:\n",
    "            statement_url = 'https://www.ecb.europa.eu' + link_tag['href']\n",
    "            links.append({'link': statement_url})\n",
    "\n",
    "except Exception as e:\n",
    "    print(f\"Error accessing main page: {e}\")\n",
    "finally:\n",
    "    driver.quit()\n",
    "\n",
    "df = pd.DataFrame(links)\n",
    "\n",
    "# Display the DataFrame\n",
    "print(df)\n"
   ]
  },
  {
   "cell_type": "code",
   "execution_count": 102,
   "metadata": {
    "id": "Onmbd25I61gL"
   },
   "outputs": [],
   "source": []
  },
  {
   "cell_type": "code",
   "execution_count": 39,
   "metadata": {
    "colab": {
     "base_uri": "https://localhost:8080/"
    },
    "id": "ZsFE6M5t61dZ",
    "outputId": "2300d209-170e-4776-ed09-999a926cb568"
   },
   "outputs": [
    {
     "data": {
      "text/html": [
       "<div>\n",
       "<style scoped>\n",
       "    .dataframe tbody tr th:only-of-type {\n",
       "        vertical-align: middle;\n",
       "    }\n",
       "\n",
       "    .dataframe tbody tr th {\n",
       "        vertical-align: top;\n",
       "    }\n",
       "\n",
       "    .dataframe thead th {\n",
       "        text-align: right;\n",
       "    }\n",
       "</style>\n",
       "<table border=\"1\" class=\"dataframe\">\n",
       "  <thead>\n",
       "    <tr style=\"text-align: right;\">\n",
       "      <th></th>\n",
       "      <th>link</th>\n",
       "    </tr>\n",
       "  </thead>\n",
       "  <tbody>\n",
       "    <tr>\n",
       "      <th>0</th>\n",
       "      <td>https://www.ecb.europa.eu/press/pressconf/2023...</td>\n",
       "    </tr>\n",
       "    <tr>\n",
       "      <th>1</th>\n",
       "      <td>https://www.ecb.europa.eu/press/pressconf/2023...</td>\n",
       "    </tr>\n",
       "    <tr>\n",
       "      <th>2</th>\n",
       "      <td>https://www.ecb.europa.eu/press/pressconf/2023...</td>\n",
       "    </tr>\n",
       "    <tr>\n",
       "      <th>3</th>\n",
       "      <td>https://www.ecb.europa.eu/press/pressconf/2023...</td>\n",
       "    </tr>\n",
       "    <tr>\n",
       "      <th>4</th>\n",
       "      <td>https://www.ecb.europa.eu/press/pressconf/2023...</td>\n",
       "    </tr>\n",
       "    <tr>\n",
       "      <th>5</th>\n",
       "      <td>https://www.ecb.europa.eu/press/pressconf/2023...</td>\n",
       "    </tr>\n",
       "  </tbody>\n",
       "</table>\n",
       "</div>"
      ],
      "text/plain": [
       "                                                link\n",
       "0  https://www.ecb.europa.eu/press/pressconf/2023...\n",
       "1  https://www.ecb.europa.eu/press/pressconf/2023...\n",
       "2  https://www.ecb.europa.eu/press/pressconf/2023...\n",
       "3  https://www.ecb.europa.eu/press/pressconf/2023...\n",
       "4  https://www.ecb.europa.eu/press/pressconf/2023...\n",
       "5  https://www.ecb.europa.eu/press/pressconf/2023..."
      ]
     },
     "execution_count": 39,
     "metadata": {},
     "output_type": "execute_result"
    }
   ],
   "source": [
    "df.head(6)"
   ]
  },
  {
   "cell_type": "code",
   "execution_count": 59,
   "metadata": {
    "colab": {
     "base_uri": "https://localhost:8080/"
    },
    "id": "E7Gd3XvS9LNA",
    "outputId": "84504aaf-4bb3-44de-8065-e78983e56eb3"
   },
   "outputs": [
    {
     "name": "stdout",
     "output_type": "stream",
     "text": [
      "                                                  link  \\\n",
      "0    https://www.ecb.europa.eu/press/pressconf/2023...   \n",
      "1    https://www.ecb.europa.eu/press/pressconf/2023...   \n",
      "2    https://www.ecb.europa.eu/press/pressconf/2023...   \n",
      "3    https://www.ecb.europa.eu/press/pressconf/2023...   \n",
      "4    https://www.ecb.europa.eu/press/pressconf/2023...   \n",
      "..                                                 ...   \n",
      "270  https://www.ecb.europa.eu/press/pressconf/1998...   \n",
      "271  https://www.ecb.europa.eu/press/pressconf/1998...   \n",
      "272  https://www.ecb.europa.eu/press/pressconf/1998...   \n",
      "273  https://www.ecb.europa.eu/press/pressconf/1998...   \n",
      "274  https://www.ecb.europa.eu/press/pressconf/1998...   \n",
      "\n",
      "                                               content  \\\n",
      "0    MONETARY POLICY STATEMENTPRESS CONFERENCEChris...   \n",
      "1    MONETARY POLICY STATEMENTPRESS CONFERENCEChris...   \n",
      "2    MONETARY POLICY STATEMENTPRESS CONFERENCEChris...   \n",
      "3    MONETARY POLICY STATEMENTPRESS CONFERENCEChris...   \n",
      "4    MONETARY POLICY STATEMENTPRESS CONFERENCEChris...   \n",
      "..                                                 ...   \n",
      "270  ECB Press conference: Introductory statement\\n...   \n",
      "271  ECB Press conference: Introductory statement\\n...   \n",
      "272  ECB Press conference: Introductory statement\\n...   \n",
      "273  ECB Press conference: Introductory statement\\n...   \n",
      "274  ECB Press conference: Introductory statement\\n...   \n",
      "\n",
      "                                     date  \n",
      "0                 Athens, 26 October 2023  \n",
      "1    Frankfurt am Main, 14 September 2023  \n",
      "2         Frankfurt am Main, 27 July 2023  \n",
      "3         Frankfurt am Main, 15 June 2023  \n",
      "4           Frankfurt am Main, 4 May 2023  \n",
      "..                                    ...  \n",
      "270                                        \n",
      "271                                        \n",
      "272                                        \n",
      "273                                        \n",
      "274                                        \n",
      "\n",
      "[275 rows x 3 columns]\n"
     ]
    }
   ],
   "source": [
    "from selenium import webdriver\n",
    "from selenium.webdriver.chrome.options import Options\n",
    "from bs4 import BeautifulSoup\n",
    "import pandas as pd\n",
    "import time\n",
    "\n",
    "# Initialize the DataFrame with links (assuming it's named df and has a column 'link')\n",
    "# df = pd.DataFrame(links)  # Uncomment this if you're starting from scratch\n",
    "\n",
    "# Selenium WebDriver setup with headless mode\n",
    "options = Options()\n",
    "options.headless = True\n",
    "options.add_argument(\"--disable-gpu\")\n",
    "options.add_argument(\"--no-sandbox\")\n",
    "options.add_argument(\"--disable-dev-shm-usage\")\n",
    "\n",
    "driver_path = '/path/to/your/webdriver'  # Replace with the path to your WebDriver\n",
    "driver = webdriver.Chrome( options=options)\n",
    "\n",
    "# Add columns for content and date\n",
    "df['content'] = ''\n",
    "df['date'] = ''\n",
    "\n",
    "try:\n",
    "    for index, row in df.iterrows():\n",
    "        # Access each link\n",
    "        driver.get(row['link'])\n",
    "        time.sleep(2)  # Wait for the page to load\n",
    "\n",
    "        # Parse the page\n",
    "        soup = BeautifulSoup(driver.page_source, 'html.parser')\n",
    "\n",
    "        # Extract content from the <main> tag\n",
    "        main_content = soup.find('main').text.strip() if soup.find('main') else ''\n",
    "        df.at[index, 'content'] = main_content\n",
    "\n",
    "        # Extract date (assuming the date is within a certain tag or format)\n",
    "        # You'll need to adjust the selector based on the page's structure\n",
    "        date_tag = soup.find('p',class_='ecb-publicationDate')  # Replace with actual selector\n",
    "        press_date = date_tag.text.strip() if date_tag else ''\n",
    "        df.at[index, 'date'] = press_date\n",
    "\n",
    "except Exception as e:\n",
    "    print(f\"Error during processing: {e}\")\n",
    "finally:\n",
    "    driver.quit()\n",
    "\n",
    "# Display the updated DataFrame\n",
    "print(df)\n"
   ]
  },
  {
   "cell_type": "code",
   "execution_count": 93,
   "metadata": {},
   "outputs": [],
   "source": [
    "import pandas as pd\n",
    "import re\n",
    "\n",
    "# Sample DataFrame with a column 'link' containing URLs\n",
    "\n",
    "\n",
    "# Function to extract date from URL\n",
    "def extract_date_from_text(text):\n",
    "    # Regular expression pattern for the date (e.g., '8 July 1998' or '26 October 2023')\n",
    "    pattern = r'\\b\\d{1,2}\\s+[A-Za-z]+\\s+\\d{4}\\b'\n",
    "    match = re.search(pattern, text)\n",
    "    return match.group(0) if match else 'Date not found'\n",
    "\n",
    "# Apply the function to each row in the DataFrame\n",
    "df['Date'] = df['content'].apply(extract_date_from_text)\n",
    "\n",
    "df=df.drop('date',axis=1)\n",
    "df.to_csv('df.csv')\n",
    "\n"
   ]
  },
  {
   "cell_type": "code",
   "execution_count": 94,
   "metadata": {
    "id": "woeLouYR-a1C"
   },
   "outputs": [
    {
     "data": {
      "text/html": [
       "<div>\n",
       "<style scoped>\n",
       "    .dataframe tbody tr th:only-of-type {\n",
       "        vertical-align: middle;\n",
       "    }\n",
       "\n",
       "    .dataframe tbody tr th {\n",
       "        vertical-align: top;\n",
       "    }\n",
       "\n",
       "    .dataframe thead th {\n",
       "        text-align: right;\n",
       "    }\n",
       "</style>\n",
       "<table border=\"1\" class=\"dataframe\">\n",
       "  <thead>\n",
       "    <tr style=\"text-align: right;\">\n",
       "      <th></th>\n",
       "      <th>link</th>\n",
       "      <th>content</th>\n",
       "      <th>Date</th>\n",
       "    </tr>\n",
       "  </thead>\n",
       "  <tbody>\n",
       "    <tr>\n",
       "      <th>0</th>\n",
       "      <td>https://www.ecb.europa.eu/press/pressconf/2023...</td>\n",
       "      <td>MONETARY POLICY STATEMENTPRESS CONFERENCEChris...</td>\n",
       "      <td>26 October 2023</td>\n",
       "    </tr>\n",
       "    <tr>\n",
       "      <th>1</th>\n",
       "      <td>https://www.ecb.europa.eu/press/pressconf/2023...</td>\n",
       "      <td>MONETARY POLICY STATEMENTPRESS CONFERENCEChris...</td>\n",
       "      <td>14 September 2023</td>\n",
       "    </tr>\n",
       "    <tr>\n",
       "      <th>2</th>\n",
       "      <td>https://www.ecb.europa.eu/press/pressconf/2023...</td>\n",
       "      <td>MONETARY POLICY STATEMENTPRESS CONFERENCEChris...</td>\n",
       "      <td>27 July 2023</td>\n",
       "    </tr>\n",
       "    <tr>\n",
       "      <th>3</th>\n",
       "      <td>https://www.ecb.europa.eu/press/pressconf/2023...</td>\n",
       "      <td>MONETARY POLICY STATEMENTPRESS CONFERENCEChris...</td>\n",
       "      <td>23 May 2023</td>\n",
       "    </tr>\n",
       "    <tr>\n",
       "      <th>4</th>\n",
       "      <td>https://www.ecb.europa.eu/press/pressconf/2023...</td>\n",
       "      <td>MONETARY POLICY STATEMENTPRESS CONFERENCEChris...</td>\n",
       "      <td>Date not found</td>\n",
       "    </tr>\n",
       "    <tr>\n",
       "      <th>...</th>\n",
       "      <td>...</td>\n",
       "      <td>...</td>\n",
       "      <td>...</td>\n",
       "    </tr>\n",
       "    <tr>\n",
       "      <th>270</th>\n",
       "      <td>https://www.ecb.europa.eu/press/pressconf/1998...</td>\n",
       "      <td>ECB Press conference: Introductory statement\\n...</td>\n",
       "      <td>3 November 1998</td>\n",
       "    </tr>\n",
       "    <tr>\n",
       "      <th>271</th>\n",
       "      <td>https://www.ecb.europa.eu/press/pressconf/1998...</td>\n",
       "      <td>ECB Press conference: Introductory statement\\n...</td>\n",
       "      <td>13 October 1998</td>\n",
       "    </tr>\n",
       "    <tr>\n",
       "      <th>272</th>\n",
       "      <td>https://www.ecb.europa.eu/press/pressconf/1998...</td>\n",
       "      <td>ECB Press conference: Introductory statement\\n...</td>\n",
       "      <td>1 September 1998</td>\n",
       "    </tr>\n",
       "    <tr>\n",
       "      <th>273</th>\n",
       "      <td>https://www.ecb.europa.eu/press/pressconf/1998...</td>\n",
       "      <td>ECB Press conference: Introductory statement\\n...</td>\n",
       "      <td>8 July 1998</td>\n",
       "    </tr>\n",
       "    <tr>\n",
       "      <th>274</th>\n",
       "      <td>https://www.ecb.europa.eu/press/pressconf/1998...</td>\n",
       "      <td>ECB Press conference: Introductory statement\\n...</td>\n",
       "      <td>9 June 1998</td>\n",
       "    </tr>\n",
       "  </tbody>\n",
       "</table>\n",
       "<p>275 rows × 3 columns</p>\n",
       "</div>"
      ],
      "text/plain": [
       "                                                  link  \\\n",
       "0    https://www.ecb.europa.eu/press/pressconf/2023...   \n",
       "1    https://www.ecb.europa.eu/press/pressconf/2023...   \n",
       "2    https://www.ecb.europa.eu/press/pressconf/2023...   \n",
       "3    https://www.ecb.europa.eu/press/pressconf/2023...   \n",
       "4    https://www.ecb.europa.eu/press/pressconf/2023...   \n",
       "..                                                 ...   \n",
       "270  https://www.ecb.europa.eu/press/pressconf/1998...   \n",
       "271  https://www.ecb.europa.eu/press/pressconf/1998...   \n",
       "272  https://www.ecb.europa.eu/press/pressconf/1998...   \n",
       "273  https://www.ecb.europa.eu/press/pressconf/1998...   \n",
       "274  https://www.ecb.europa.eu/press/pressconf/1998...   \n",
       "\n",
       "                                               content               Date  \n",
       "0    MONETARY POLICY STATEMENTPRESS CONFERENCEChris...    26 October 2023  \n",
       "1    MONETARY POLICY STATEMENTPRESS CONFERENCEChris...  14 September 2023  \n",
       "2    MONETARY POLICY STATEMENTPRESS CONFERENCEChris...       27 July 2023  \n",
       "3    MONETARY POLICY STATEMENTPRESS CONFERENCEChris...        23 May 2023  \n",
       "4    MONETARY POLICY STATEMENTPRESS CONFERENCEChris...     Date not found  \n",
       "..                                                 ...                ...  \n",
       "270  ECB Press conference: Introductory statement\\n...    3 November 1998  \n",
       "271  ECB Press conference: Introductory statement\\n...    13 October 1998  \n",
       "272  ECB Press conference: Introductory statement\\n...   1 September 1998  \n",
       "273  ECB Press conference: Introductory statement\\n...        8 July 1998  \n",
       "274  ECB Press conference: Introductory statement\\n...        9 June 1998  \n",
       "\n",
       "[275 rows x 3 columns]"
      ]
     },
     "execution_count": 94,
     "metadata": {},
     "output_type": "execute_result"
    }
   ],
   "source": [
    "df"
   ]
  },
  {
   "cell_type": "code",
   "execution_count": 110,
   "metadata": {
    "colab": {
     "base_uri": "https://localhost:8080/"
    },
    "id": "M3uJEM8v-a3b",
    "outputId": "64bf8856-bcab-4178-bab1-8b3ac545b734"
   },
   "outputs": [
    {
     "name": "stdout",
     "output_type": "stream",
     "text": [
      "                                                  link  \\\n",
      "0    https://www.ecb.europa.eu/press/pressconf/2023...   \n",
      "1    https://www.ecb.europa.eu/press/pressconf/2023...   \n",
      "2    https://www.ecb.europa.eu/press/pressconf/2023...   \n",
      "3    https://www.ecb.europa.eu/press/pressconf/2023...   \n",
      "4    https://www.ecb.europa.eu/press/pressconf/2023...   \n",
      "..                                                 ...   \n",
      "270  https://www.ecb.europa.eu/press/pressconf/1998...   \n",
      "271  https://www.ecb.europa.eu/press/pressconf/1998...   \n",
      "272  https://www.ecb.europa.eu/press/pressconf/1998...   \n",
      "273  https://www.ecb.europa.eu/press/pressconf/1998...   \n",
      "274  https://www.ecb.europa.eu/press/pressconf/1998...   \n",
      "\n",
      "                                               content               Date  \n",
      "0    MONETARY POLICY STATEMENTPRESS CONFERENCEChris...    26 October 2023  \n",
      "1    MONETARY POLICY STATEMENTPRESS CONFERENCEChris...  14 September 2023  \n",
      "2    MONETARY POLICY STATEMENTPRESS CONFERENCEChris...       27 July 2023  \n",
      "3    MONETARY POLICY STATEMENTPRESS CONFERENCEChris...        23 May 2023  \n",
      "4    MONETARY POLICY STATEMENTPRESS CONFERENCEChris...         4 May 2023  \n",
      "..                                                 ...                ...  \n",
      "270  ECB Press conference: Introductory statement\\n...    3 November 1998  \n",
      "271  ECB Press conference: Introductory statement\\n...    13 October 1998  \n",
      "272  ECB Press conference: Introductory statement\\n...   1 September 1998  \n",
      "273  ECB Press conference: Introductory statement\\n...        8 July 1998  \n",
      "274  ECB Press conference: Introductory statement\\n...        9 June 1998  \n",
      "\n",
      "[275 rows x 3 columns]\n"
     ]
    }
   ],
   "source": [
    "\n",
    "missing_dates = ['4 May 2023', '8 September 2022', '21 July 2022']\n",
    "# Ensure that 'missing_dates' has the same number of elements as the rows with 'Date not found'\n",
    "if len(missing_dates) == len(df[df['Date'] == 'Date not found']):\n",
    "    missing_date_indices = df[df['Date'] == 'Date not found'].index\n",
    "\n",
    "    # Loop through the indices and update the 'Date' column\n",
    "    for i, missing_date in zip(missing_date_indices, missing_dates):\n",
    "        df.at[i, 'Date'] = missing_date\n",
    "else:\n",
    "    print(\"The number of missing dates does not match the number of rows with 'Date not found'.\")\n",
    "\n",
    "# Display the updated DataFrame\n",
    "print(df)\n"
   ]
  },
  {
   "cell_type": "code",
   "execution_count": 118,
   "metadata": {},
   "outputs": [
    {
     "name": "stdout",
     "output_type": "stream",
     "text": [
      "['https://www.ecb.europa.eu/press/pressconf/2023/html/ecb.is230504~f242392c72.en.html']\n",
      "['https://www.ecb.europa.eu/press/pressconf/2022/html/ecb.is220908~cd8363c58e.en.html']\n",
      "['https://www.ecb.europa.eu/press/pressconf/2022/html/ecb.is220721~51ef267c68.en.html']\n"
     ]
    }
   ],
   "source": [
    "print(df[df['Date']=='4 May 2023']['link'].values)\n",
    "print(df[df['Date']==missing_dates[1]]['link'].values)\n",
    "print(df[df['Date']==missing_dates[2]]['link'].values)"
   ]
  },
  {
   "cell_type": "code",
   "execution_count": 125,
   "metadata": {},
   "outputs": [
    {
     "data": {
      "text/plain": [
       "link       0\n",
       "content    0\n",
       "Date       0\n",
       "date       0\n",
       "dtype: int64"
      ]
     },
     "execution_count": 125,
     "metadata": {},
     "output_type": "execute_result"
    }
   ],
   "source": [
    "df['date']= pd.to_datetime(df['Date'], format='%d %B %Y')\n",
    "df.isna().sum()\n"
   ]
  },
  {
   "cell_type": "code",
   "execution_count": 126,
   "metadata": {
    "colab": {
     "base_uri": "https://localhost:8080/"
    },
    "id": "IKMVwAW9WTgk",
    "outputId": "dd5a1225-2762-4d4f-8b53-54122ec54624"
   },
   "outputs": [],
   "source": [
    "df.to_csv('final_df.csv')"
   ]
  }
 ],
 "metadata": {
  "colab": {
   "provenance": []
  },
  "kernelspec": {
   "display_name": "Python 3 (ipykernel)",
   "language": "python",
   "name": "python3"
  },
  "language_info": {
   "codemirror_mode": {
    "name": "ipython",
    "version": 3
   },
   "file_extension": ".py",
   "mimetype": "text/x-python",
   "name": "python",
   "nbconvert_exporter": "python",
   "pygments_lexer": "ipython3",
   "version": "3.9.13"
  }
 },
 "nbformat": 4,
 "nbformat_minor": 4
}
